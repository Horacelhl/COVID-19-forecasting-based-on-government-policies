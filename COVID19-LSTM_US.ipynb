{
 "cells": [
  {
   "cell_type": "markdown",
   "metadata": {},
   "source": [
    "#  Covid-19 trend forecasting in LSTM model\n",
    "\n",
    "In this jupyter notebook, we will assess the ability of LSTM model in Covid-19 forecasting. \n",
    "\n",
    "This forecasting work based on the WHO Coronavirus Disease (COVID-19) Dashboard (27/09/2020)\n",
    "https://covid19.who.int/\n",
    "\n",
    "There are 4 countries for our target, including Australia, China, Italy and US\n",
    "\n",
    "Previously we have complete the data extraction from original sources, and now we are going to load these dataset and do further processing."
   ]
  },
  {
   "cell_type": "markdown",
   "metadata": {},
   "source": [
    "# 1. proprecessing\n",
    "\n",
    "## 1.1 Data loading"
   ]
  },
  {
   "cell_type": "code",
   "execution_count": 1,
   "metadata": {},
   "outputs": [],
   "source": [
    "import IPython\n",
    "import IPython.display\n",
    "from tensorflow import keras"
   ]
  },
  {
   "cell_type": "code",
   "execution_count": 2,
   "metadata": {},
   "outputs": [],
   "source": [
    "import os,glob\n",
    "import pandas as pd\n",
    "import numpy as np\n",
    "data_all = pd.read_csv(r\"D:\\Download\\COVID19\\WHO-COVID-19-global-data.csv\", index_col=None)"
   ]
  },
  {
   "cell_type": "code",
   "execution_count": 3,
   "metadata": {},
   "outputs": [],
   "source": [
    "data_all.columns = data_all.columns.str.replace(' ', '')"
   ]
  },
  {
   "cell_type": "code",
   "execution_count": 4,
   "metadata": {
    "scrolled": true
   },
   "outputs": [
    {
     "data": {
      "text/html": [
       "<div>\n",
       "<style scoped>\n",
       "    .dataframe tbody tr th:only-of-type {\n",
       "        vertical-align: middle;\n",
       "    }\n",
       "\n",
       "    .dataframe tbody tr th {\n",
       "        vertical-align: top;\n",
       "    }\n",
       "\n",
       "    .dataframe thead th {\n",
       "        text-align: right;\n",
       "    }\n",
       "</style>\n",
       "<table border=\"1\" class=\"dataframe\">\n",
       "  <thead>\n",
       "    <tr style=\"text-align: right;\">\n",
       "      <th></th>\n",
       "      <th>Date_reported</th>\n",
       "      <th>Country_code</th>\n",
       "      <th>Country</th>\n",
       "      <th>WHO_region</th>\n",
       "      <th>New_cases</th>\n",
       "      <th>Cumulative_cases</th>\n",
       "      <th>New_deaths</th>\n",
       "      <th>Cumulative_deaths</th>\n",
       "    </tr>\n",
       "  </thead>\n",
       "  <tbody>\n",
       "    <tr>\n",
       "      <th>0</th>\n",
       "      <td>2020-01-03</td>\n",
       "      <td>AF</td>\n",
       "      <td>Afghanistan</td>\n",
       "      <td>EMRO</td>\n",
       "      <td>0</td>\n",
       "      <td>0</td>\n",
       "      <td>0</td>\n",
       "      <td>0</td>\n",
       "    </tr>\n",
       "    <tr>\n",
       "      <th>1</th>\n",
       "      <td>2020-01-04</td>\n",
       "      <td>AF</td>\n",
       "      <td>Afghanistan</td>\n",
       "      <td>EMRO</td>\n",
       "      <td>0</td>\n",
       "      <td>0</td>\n",
       "      <td>0</td>\n",
       "      <td>0</td>\n",
       "    </tr>\n",
       "    <tr>\n",
       "      <th>2</th>\n",
       "      <td>2020-01-05</td>\n",
       "      <td>AF</td>\n",
       "      <td>Afghanistan</td>\n",
       "      <td>EMRO</td>\n",
       "      <td>0</td>\n",
       "      <td>0</td>\n",
       "      <td>0</td>\n",
       "      <td>0</td>\n",
       "    </tr>\n",
       "    <tr>\n",
       "      <th>3</th>\n",
       "      <td>2020-01-06</td>\n",
       "      <td>AF</td>\n",
       "      <td>Afghanistan</td>\n",
       "      <td>EMRO</td>\n",
       "      <td>0</td>\n",
       "      <td>0</td>\n",
       "      <td>0</td>\n",
       "      <td>0</td>\n",
       "    </tr>\n",
       "    <tr>\n",
       "      <th>4</th>\n",
       "      <td>2020-01-07</td>\n",
       "      <td>AF</td>\n",
       "      <td>Afghanistan</td>\n",
       "      <td>EMRO</td>\n",
       "      <td>0</td>\n",
       "      <td>0</td>\n",
       "      <td>0</td>\n",
       "      <td>0</td>\n",
       "    </tr>\n",
       "  </tbody>\n",
       "</table>\n",
       "</div>"
      ],
      "text/plain": [
       "  Date_reported Country_code      Country WHO_region  New_cases  \\\n",
       "0    2020-01-03           AF  Afghanistan       EMRO          0   \n",
       "1    2020-01-04           AF  Afghanistan       EMRO          0   \n",
       "2    2020-01-05           AF  Afghanistan       EMRO          0   \n",
       "3    2020-01-06           AF  Afghanistan       EMRO          0   \n",
       "4    2020-01-07           AF  Afghanistan       EMRO          0   \n",
       "\n",
       "   Cumulative_cases  New_deaths  Cumulative_deaths  \n",
       "0                 0           0                  0  \n",
       "1                 0           0                  0  \n",
       "2                 0           0                  0  \n",
       "3                 0           0                  0  \n",
       "4                 0           0                  0  "
      ]
     },
     "execution_count": 4,
     "metadata": {},
     "output_type": "execute_result"
    }
   ],
   "source": [
    "data_all.head()"
   ]
  },
  {
   "cell_type": "code",
   "execution_count": 5,
   "metadata": {},
   "outputs": [
    {
     "name": "stdout",
     "output_type": "stream",
     "text": [
      "<class 'pandas.core.frame.DataFrame'>\n",
      "RangeIndex: 63215 entries, 0 to 63214\n",
      "Data columns (total 8 columns):\n",
      " #   Column             Non-Null Count  Dtype \n",
      "---  ------             --------------  ----- \n",
      " 0   Date_reported      63215 non-null  object\n",
      " 1   Country_code       62946 non-null  object\n",
      " 2   Country            63215 non-null  object\n",
      " 3   WHO_region         63215 non-null  object\n",
      " 4   New_cases          63215 non-null  int64 \n",
      " 5   Cumulative_cases   63215 non-null  int64 \n",
      " 6   New_deaths         63215 non-null  int64 \n",
      " 7   Cumulative_deaths  63215 non-null  int64 \n",
      "dtypes: int64(4), object(4)\n",
      "memory usage: 3.9+ MB\n"
     ]
    }
   ],
   "source": [
    "data_all.info()"
   ]
  },
  {
   "cell_type": "code",
   "execution_count": 6,
   "metadata": {},
   "outputs": [
    {
     "data": {
      "text/html": [
       "<div>\n",
       "<style scoped>\n",
       "    .dataframe tbody tr th:only-of-type {\n",
       "        vertical-align: middle;\n",
       "    }\n",
       "\n",
       "    .dataframe tbody tr th {\n",
       "        vertical-align: top;\n",
       "    }\n",
       "\n",
       "    .dataframe thead th {\n",
       "        text-align: right;\n",
       "    }\n",
       "</style>\n",
       "<table border=\"1\" class=\"dataframe\">\n",
       "  <thead>\n",
       "    <tr style=\"text-align: right;\">\n",
       "      <th></th>\n",
       "      <th>New_cases</th>\n",
       "      <th>Cumulative_cases</th>\n",
       "      <th>New_deaths</th>\n",
       "      <th>Cumulative_deaths</th>\n",
       "    </tr>\n",
       "  </thead>\n",
       "  <tbody>\n",
       "    <tr>\n",
       "      <th>count</th>\n",
       "      <td>63215.000000</td>\n",
       "      <td>6.321500e+04</td>\n",
       "      <td>63215.000000</td>\n",
       "      <td>63215.000000</td>\n",
       "    </tr>\n",
       "    <tr>\n",
       "      <th>mean</th>\n",
       "      <td>517.771810</td>\n",
       "      <td>3.651005e+04</td>\n",
       "      <td>15.680202</td>\n",
       "      <td>1474.109990</td>\n",
       "    </tr>\n",
       "    <tr>\n",
       "      <th>std</th>\n",
       "      <td>3788.950602</td>\n",
       "      <td>2.725697e+05</td>\n",
       "      <td>108.257858</td>\n",
       "      <td>9350.207733</td>\n",
       "    </tr>\n",
       "    <tr>\n",
       "      <th>min</th>\n",
       "      <td>-8261.000000</td>\n",
       "      <td>0.000000e+00</td>\n",
       "      <td>-514.000000</td>\n",
       "      <td>0.000000</td>\n",
       "    </tr>\n",
       "    <tr>\n",
       "      <th>25%</th>\n",
       "      <td>0.000000</td>\n",
       "      <td>0.000000e+00</td>\n",
       "      <td>0.000000</td>\n",
       "      <td>0.000000</td>\n",
       "    </tr>\n",
       "    <tr>\n",
       "      <th>50%</th>\n",
       "      <td>0.000000</td>\n",
       "      <td>1.450000e+02</td>\n",
       "      <td>0.000000</td>\n",
       "      <td>2.000000</td>\n",
       "    </tr>\n",
       "    <tr>\n",
       "      <th>75%</th>\n",
       "      <td>57.000000</td>\n",
       "      <td>3.906000e+03</td>\n",
       "      <td>1.000000</td>\n",
       "      <td>78.000000</td>\n",
       "    </tr>\n",
       "    <tr>\n",
       "      <th>max</th>\n",
       "      <td>97894.000000</td>\n",
       "      <td>6.960152e+06</td>\n",
       "      <td>6409.000000</td>\n",
       "      <td>202478.000000</td>\n",
       "    </tr>\n",
       "  </tbody>\n",
       "</table>\n",
       "</div>"
      ],
      "text/plain": [
       "          New_cases  Cumulative_cases    New_deaths  Cumulative_deaths\n",
       "count  63215.000000      6.321500e+04  63215.000000       63215.000000\n",
       "mean     517.771810      3.651005e+04     15.680202        1474.109990\n",
       "std     3788.950602      2.725697e+05    108.257858        9350.207733\n",
       "min    -8261.000000      0.000000e+00   -514.000000           0.000000\n",
       "25%        0.000000      0.000000e+00      0.000000           0.000000\n",
       "50%        0.000000      1.450000e+02      0.000000           2.000000\n",
       "75%       57.000000      3.906000e+03      1.000000          78.000000\n",
       "max    97894.000000      6.960152e+06   6409.000000      202478.000000"
      ]
     },
     "execution_count": 6,
     "metadata": {},
     "output_type": "execute_result"
    }
   ],
   "source": [
    "data_all.describe()"
   ]
  },
  {
   "cell_type": "code",
   "execution_count": 7,
   "metadata": {},
   "outputs": [
    {
     "data": {
      "text/html": [
       "<div>\n",
       "<style scoped>\n",
       "    .dataframe tbody tr th:only-of-type {\n",
       "        vertical-align: middle;\n",
       "    }\n",
       "\n",
       "    .dataframe tbody tr th {\n",
       "        vertical-align: top;\n",
       "    }\n",
       "\n",
       "    .dataframe thead th {\n",
       "        text-align: right;\n",
       "    }\n",
       "</style>\n",
       "<table border=\"1\" class=\"dataframe\">\n",
       "  <thead>\n",
       "    <tr style=\"text-align: right;\">\n",
       "      <th></th>\n",
       "      <th>Date_reported</th>\n",
       "      <th>NC_cn_24h</th>\n",
       "    </tr>\n",
       "  </thead>\n",
       "  <tbody>\n",
       "    <tr>\n",
       "      <th>0</th>\n",
       "      <td>2020-01-03</td>\n",
       "      <td>0</td>\n",
       "    </tr>\n",
       "    <tr>\n",
       "      <th>1</th>\n",
       "      <td>2020-01-04</td>\n",
       "      <td>1</td>\n",
       "    </tr>\n",
       "    <tr>\n",
       "      <th>2</th>\n",
       "      <td>2020-01-05</td>\n",
       "      <td>0</td>\n",
       "    </tr>\n",
       "    <tr>\n",
       "      <th>3</th>\n",
       "      <td>2020-01-06</td>\n",
       "      <td>3</td>\n",
       "    </tr>\n",
       "    <tr>\n",
       "      <th>4</th>\n",
       "      <td>2020-01-07</td>\n",
       "      <td>0</td>\n",
       "    </tr>\n",
       "    <tr>\n",
       "      <th>...</th>\n",
       "      <td>...</td>\n",
       "      <td>...</td>\n",
       "    </tr>\n",
       "    <tr>\n",
       "      <th>264</th>\n",
       "      <td>2020-09-23</td>\n",
       "      <td>18</td>\n",
       "    </tr>\n",
       "    <tr>\n",
       "      <th>265</th>\n",
       "      <td>2020-09-24</td>\n",
       "      <td>10</td>\n",
       "    </tr>\n",
       "    <tr>\n",
       "      <th>266</th>\n",
       "      <td>2020-09-25</td>\n",
       "      <td>15</td>\n",
       "    </tr>\n",
       "    <tr>\n",
       "      <th>267</th>\n",
       "      <td>2020-09-26</td>\n",
       "      <td>18</td>\n",
       "    </tr>\n",
       "    <tr>\n",
       "      <th>268</th>\n",
       "      <td>2020-09-27</td>\n",
       "      <td>15</td>\n",
       "    </tr>\n",
       "  </tbody>\n",
       "</table>\n",
       "<p>269 rows × 2 columns</p>\n",
       "</div>"
      ],
      "text/plain": [
       "    Date_reported  NC_cn_24h\n",
       "0      2020-01-03          0\n",
       "1      2020-01-04          1\n",
       "2      2020-01-05          0\n",
       "3      2020-01-06          3\n",
       "4      2020-01-07          0\n",
       "..            ...        ...\n",
       "264    2020-09-23         18\n",
       "265    2020-09-24         10\n",
       "266    2020-09-25         15\n",
       "267    2020-09-26         18\n",
       "268    2020-09-27         15\n",
       "\n",
       "[269 rows x 2 columns]"
      ]
     },
     "execution_count": 7,
     "metadata": {},
     "output_type": "execute_result"
    }
   ],
   "source": [
    "site_cn = data_all[['Date_reported',\"New_cases\"]][data_all.Country == \"China\"]\n",
    "site_cn_group =  site_cn.groupby(['Date_reported'],as_index=False).sum()\n",
    "site_cn_group.rename(columns={\"New_cases\":\"NC_cn_24h\"}, inplace=True)\n",
    "site_cn_group"
   ]
  },
  {
   "cell_type": "code",
   "execution_count": 8,
   "metadata": {},
   "outputs": [
    {
     "data": {
      "text/html": [
       "<div>\n",
       "<style scoped>\n",
       "    .dataframe tbody tr th:only-of-type {\n",
       "        vertical-align: middle;\n",
       "    }\n",
       "\n",
       "    .dataframe tbody tr th {\n",
       "        vertical-align: top;\n",
       "    }\n",
       "\n",
       "    .dataframe thead th {\n",
       "        text-align: right;\n",
       "    }\n",
       "</style>\n",
       "<table border=\"1\" class=\"dataframe\">\n",
       "  <thead>\n",
       "    <tr style=\"text-align: right;\">\n",
       "      <th></th>\n",
       "      <th>Date_reported</th>\n",
       "      <th>NC_au_24h</th>\n",
       "    </tr>\n",
       "  </thead>\n",
       "  <tbody>\n",
       "    <tr>\n",
       "      <th>0</th>\n",
       "      <td>2020-01-03</td>\n",
       "      <td>0</td>\n",
       "    </tr>\n",
       "    <tr>\n",
       "      <th>1</th>\n",
       "      <td>2020-01-04</td>\n",
       "      <td>0</td>\n",
       "    </tr>\n",
       "    <tr>\n",
       "      <th>2</th>\n",
       "      <td>2020-01-05</td>\n",
       "      <td>0</td>\n",
       "    </tr>\n",
       "    <tr>\n",
       "      <th>3</th>\n",
       "      <td>2020-01-06</td>\n",
       "      <td>0</td>\n",
       "    </tr>\n",
       "    <tr>\n",
       "      <th>4</th>\n",
       "      <td>2020-01-07</td>\n",
       "      <td>0</td>\n",
       "    </tr>\n",
       "    <tr>\n",
       "      <th>...</th>\n",
       "      <td>...</td>\n",
       "      <td>...</td>\n",
       "    </tr>\n",
       "    <tr>\n",
       "      <th>264</th>\n",
       "      <td>2020-09-23</td>\n",
       "      <td>30</td>\n",
       "    </tr>\n",
       "    <tr>\n",
       "      <th>265</th>\n",
       "      <td>2020-09-24</td>\n",
       "      <td>31</td>\n",
       "    </tr>\n",
       "    <tr>\n",
       "      <th>266</th>\n",
       "      <td>2020-09-25</td>\n",
       "      <td>10</td>\n",
       "    </tr>\n",
       "    <tr>\n",
       "      <th>267</th>\n",
       "      <td>2020-09-26</td>\n",
       "      <td>17</td>\n",
       "    </tr>\n",
       "    <tr>\n",
       "      <th>268</th>\n",
       "      <td>2020-09-27</td>\n",
       "      <td>16</td>\n",
       "    </tr>\n",
       "  </tbody>\n",
       "</table>\n",
       "<p>269 rows × 2 columns</p>\n",
       "</div>"
      ],
      "text/plain": [
       "    Date_reported  NC_au_24h\n",
       "0      2020-01-03          0\n",
       "1      2020-01-04          0\n",
       "2      2020-01-05          0\n",
       "3      2020-01-06          0\n",
       "4      2020-01-07          0\n",
       "..            ...        ...\n",
       "264    2020-09-23         30\n",
       "265    2020-09-24         31\n",
       "266    2020-09-25         10\n",
       "267    2020-09-26         17\n",
       "268    2020-09-27         16\n",
       "\n",
       "[269 rows x 2 columns]"
      ]
     },
     "execution_count": 8,
     "metadata": {},
     "output_type": "execute_result"
    }
   ],
   "source": [
    "site_au = data_all[['Date_reported',\"New_cases\"]][data_all.Country == \"Australia\"]\n",
    "site_au_group =  site_au.groupby(['Date_reported'],as_index=False).sum()\n",
    "site_au_group.rename(columns={\"New_cases\":\"NC_au_24h\"}, inplace=True)\n",
    "site_au_group"
   ]
  },
  {
   "cell_type": "code",
   "execution_count": 9,
   "metadata": {},
   "outputs": [
    {
     "data": {
      "text/html": [
       "<div>\n",
       "<style scoped>\n",
       "    .dataframe tbody tr th:only-of-type {\n",
       "        vertical-align: middle;\n",
       "    }\n",
       "\n",
       "    .dataframe tbody tr th {\n",
       "        vertical-align: top;\n",
       "    }\n",
       "\n",
       "    .dataframe thead th {\n",
       "        text-align: right;\n",
       "    }\n",
       "</style>\n",
       "<table border=\"1\" class=\"dataframe\">\n",
       "  <thead>\n",
       "    <tr style=\"text-align: right;\">\n",
       "      <th></th>\n",
       "      <th>Date_reported</th>\n",
       "      <th>NC_it_24h</th>\n",
       "    </tr>\n",
       "  </thead>\n",
       "  <tbody>\n",
       "    <tr>\n",
       "      <th>0</th>\n",
       "      <td>2020-01-03</td>\n",
       "      <td>0</td>\n",
       "    </tr>\n",
       "    <tr>\n",
       "      <th>1</th>\n",
       "      <td>2020-01-04</td>\n",
       "      <td>0</td>\n",
       "    </tr>\n",
       "    <tr>\n",
       "      <th>2</th>\n",
       "      <td>2020-01-05</td>\n",
       "      <td>0</td>\n",
       "    </tr>\n",
       "    <tr>\n",
       "      <th>3</th>\n",
       "      <td>2020-01-06</td>\n",
       "      <td>0</td>\n",
       "    </tr>\n",
       "    <tr>\n",
       "      <th>4</th>\n",
       "      <td>2020-01-07</td>\n",
       "      <td>0</td>\n",
       "    </tr>\n",
       "    <tr>\n",
       "      <th>...</th>\n",
       "      <td>...</td>\n",
       "      <td>...</td>\n",
       "    </tr>\n",
       "    <tr>\n",
       "      <th>264</th>\n",
       "      <td>2020-09-23</td>\n",
       "      <td>1391</td>\n",
       "    </tr>\n",
       "    <tr>\n",
       "      <th>265</th>\n",
       "      <td>2020-09-24</td>\n",
       "      <td>1640</td>\n",
       "    </tr>\n",
       "    <tr>\n",
       "      <th>266</th>\n",
       "      <td>2020-09-25</td>\n",
       "      <td>1786</td>\n",
       "    </tr>\n",
       "    <tr>\n",
       "      <th>267</th>\n",
       "      <td>2020-09-26</td>\n",
       "      <td>1912</td>\n",
       "    </tr>\n",
       "    <tr>\n",
       "      <th>268</th>\n",
       "      <td>2020-09-27</td>\n",
       "      <td>1869</td>\n",
       "    </tr>\n",
       "  </tbody>\n",
       "</table>\n",
       "<p>269 rows × 2 columns</p>\n",
       "</div>"
      ],
      "text/plain": [
       "    Date_reported  NC_it_24h\n",
       "0      2020-01-03          0\n",
       "1      2020-01-04          0\n",
       "2      2020-01-05          0\n",
       "3      2020-01-06          0\n",
       "4      2020-01-07          0\n",
       "..            ...        ...\n",
       "264    2020-09-23       1391\n",
       "265    2020-09-24       1640\n",
       "266    2020-09-25       1786\n",
       "267    2020-09-26       1912\n",
       "268    2020-09-27       1869\n",
       "\n",
       "[269 rows x 2 columns]"
      ]
     },
     "execution_count": 9,
     "metadata": {},
     "output_type": "execute_result"
    }
   ],
   "source": [
    "site_it = data_all[['Date_reported',\"New_cases\"]][data_all.Country == \"Italy\"]\n",
    "site_it_group =  site_it.groupby(['Date_reported'],as_index=False).sum()\n",
    "site_it_group.rename(columns={\"New_cases\":\"NC_it_24h\"}, inplace=True)\n",
    "site_it_group"
   ]
  },
  {
   "cell_type": "code",
   "execution_count": 10,
   "metadata": {},
   "outputs": [
    {
     "data": {
      "text/html": [
       "<div>\n",
       "<style scoped>\n",
       "    .dataframe tbody tr th:only-of-type {\n",
       "        vertical-align: middle;\n",
       "    }\n",
       "\n",
       "    .dataframe tbody tr th {\n",
       "        vertical-align: top;\n",
       "    }\n",
       "\n",
       "    .dataframe thead th {\n",
       "        text-align: right;\n",
       "    }\n",
       "</style>\n",
       "<table border=\"1\" class=\"dataframe\">\n",
       "  <thead>\n",
       "    <tr style=\"text-align: right;\">\n",
       "      <th></th>\n",
       "      <th>Date_reported</th>\n",
       "      <th>NC_us_24h</th>\n",
       "    </tr>\n",
       "  </thead>\n",
       "  <tbody>\n",
       "    <tr>\n",
       "      <th>0</th>\n",
       "      <td>2020-01-03</td>\n",
       "      <td>0</td>\n",
       "    </tr>\n",
       "    <tr>\n",
       "      <th>1</th>\n",
       "      <td>2020-01-04</td>\n",
       "      <td>0</td>\n",
       "    </tr>\n",
       "    <tr>\n",
       "      <th>2</th>\n",
       "      <td>2020-01-05</td>\n",
       "      <td>0</td>\n",
       "    </tr>\n",
       "    <tr>\n",
       "      <th>3</th>\n",
       "      <td>2020-01-06</td>\n",
       "      <td>0</td>\n",
       "    </tr>\n",
       "    <tr>\n",
       "      <th>4</th>\n",
       "      <td>2020-01-07</td>\n",
       "      <td>0</td>\n",
       "    </tr>\n",
       "    <tr>\n",
       "      <th>...</th>\n",
       "      <td>...</td>\n",
       "      <td>...</td>\n",
       "    </tr>\n",
       "    <tr>\n",
       "      <th>264</th>\n",
       "      <td>2020-09-23</td>\n",
       "      <td>39145</td>\n",
       "    </tr>\n",
       "    <tr>\n",
       "      <th>265</th>\n",
       "      <td>2020-09-24</td>\n",
       "      <td>49176</td>\n",
       "    </tr>\n",
       "    <tr>\n",
       "      <th>266</th>\n",
       "      <td>2020-09-25</td>\n",
       "      <td>40043</td>\n",
       "    </tr>\n",
       "    <tr>\n",
       "      <th>267</th>\n",
       "      <td>2020-09-26</td>\n",
       "      <td>41254</td>\n",
       "    </tr>\n",
       "    <tr>\n",
       "      <th>268</th>\n",
       "      <td>2020-09-27</td>\n",
       "      <td>50070</td>\n",
       "    </tr>\n",
       "  </tbody>\n",
       "</table>\n",
       "<p>269 rows × 2 columns</p>\n",
       "</div>"
      ],
      "text/plain": [
       "    Date_reported  NC_us_24h\n",
       "0      2020-01-03          0\n",
       "1      2020-01-04          0\n",
       "2      2020-01-05          0\n",
       "3      2020-01-06          0\n",
       "4      2020-01-07          0\n",
       "..            ...        ...\n",
       "264    2020-09-23      39145\n",
       "265    2020-09-24      49176\n",
       "266    2020-09-25      40043\n",
       "267    2020-09-26      41254\n",
       "268    2020-09-27      50070\n",
       "\n",
       "[269 rows x 2 columns]"
      ]
     },
     "execution_count": 10,
     "metadata": {},
     "output_type": "execute_result"
    }
   ],
   "source": [
    "site_us = data_all[['Date_reported',\"New_cases\"]][data_all.Country == \"United States of America\"]\n",
    "site_us_group =  site_us.groupby(['Date_reported'],as_index=False).sum()\n",
    "site_us_group.rename(columns={\"New_cases\":\"NC_us_24h\"}, inplace=True)\n",
    "site_us_group"
   ]
  },
  {
   "cell_type": "code",
   "execution_count": 11,
   "metadata": {},
   "outputs": [],
   "source": [
    "all_data_df = site_cn_group.merge(site_au_group, left_on='Date_reported', right_on='Date_reported')\n",
    "all_data_df = all_data_df.merge(site_it_group, left_on='Date_reported', right_on='Date_reported')\n",
    "all_data_df = all_data_df.merge(site_us_group, left_on='Date_reported', right_on='Date_reported')"
   ]
  },
  {
   "cell_type": "code",
   "execution_count": 12,
   "metadata": {},
   "outputs": [
    {
     "data": {
      "text/html": [
       "<div>\n",
       "<style scoped>\n",
       "    .dataframe tbody tr th:only-of-type {\n",
       "        vertical-align: middle;\n",
       "    }\n",
       "\n",
       "    .dataframe tbody tr th {\n",
       "        vertical-align: top;\n",
       "    }\n",
       "\n",
       "    .dataframe thead th {\n",
       "        text-align: right;\n",
       "    }\n",
       "</style>\n",
       "<table border=\"1\" class=\"dataframe\">\n",
       "  <thead>\n",
       "    <tr style=\"text-align: right;\">\n",
       "      <th></th>\n",
       "      <th>Date_reported</th>\n",
       "      <th>NC_cn_24h</th>\n",
       "      <th>NC_au_24h</th>\n",
       "      <th>NC_it_24h</th>\n",
       "      <th>NC_us_24h</th>\n",
       "    </tr>\n",
       "  </thead>\n",
       "  <tbody>\n",
       "    <tr>\n",
       "      <th>0</th>\n",
       "      <td>2020-01-03</td>\n",
       "      <td>0</td>\n",
       "      <td>0</td>\n",
       "      <td>0</td>\n",
       "      <td>0</td>\n",
       "    </tr>\n",
       "    <tr>\n",
       "      <th>1</th>\n",
       "      <td>2020-01-04</td>\n",
       "      <td>1</td>\n",
       "      <td>0</td>\n",
       "      <td>0</td>\n",
       "      <td>0</td>\n",
       "    </tr>\n",
       "    <tr>\n",
       "      <th>2</th>\n",
       "      <td>2020-01-05</td>\n",
       "      <td>0</td>\n",
       "      <td>0</td>\n",
       "      <td>0</td>\n",
       "      <td>0</td>\n",
       "    </tr>\n",
       "    <tr>\n",
       "      <th>3</th>\n",
       "      <td>2020-01-06</td>\n",
       "      <td>3</td>\n",
       "      <td>0</td>\n",
       "      <td>0</td>\n",
       "      <td>0</td>\n",
       "    </tr>\n",
       "    <tr>\n",
       "      <th>4</th>\n",
       "      <td>2020-01-07</td>\n",
       "      <td>0</td>\n",
       "      <td>0</td>\n",
       "      <td>0</td>\n",
       "      <td>0</td>\n",
       "    </tr>\n",
       "    <tr>\n",
       "      <th>...</th>\n",
       "      <td>...</td>\n",
       "      <td>...</td>\n",
       "      <td>...</td>\n",
       "      <td>...</td>\n",
       "      <td>...</td>\n",
       "    </tr>\n",
       "    <tr>\n",
       "      <th>264</th>\n",
       "      <td>2020-09-23</td>\n",
       "      <td>18</td>\n",
       "      <td>30</td>\n",
       "      <td>1391</td>\n",
       "      <td>39145</td>\n",
       "    </tr>\n",
       "    <tr>\n",
       "      <th>265</th>\n",
       "      <td>2020-09-24</td>\n",
       "      <td>10</td>\n",
       "      <td>31</td>\n",
       "      <td>1640</td>\n",
       "      <td>49176</td>\n",
       "    </tr>\n",
       "    <tr>\n",
       "      <th>266</th>\n",
       "      <td>2020-09-25</td>\n",
       "      <td>15</td>\n",
       "      <td>10</td>\n",
       "      <td>1786</td>\n",
       "      <td>40043</td>\n",
       "    </tr>\n",
       "    <tr>\n",
       "      <th>267</th>\n",
       "      <td>2020-09-26</td>\n",
       "      <td>18</td>\n",
       "      <td>17</td>\n",
       "      <td>1912</td>\n",
       "      <td>41254</td>\n",
       "    </tr>\n",
       "    <tr>\n",
       "      <th>268</th>\n",
       "      <td>2020-09-27</td>\n",
       "      <td>15</td>\n",
       "      <td>16</td>\n",
       "      <td>1869</td>\n",
       "      <td>50070</td>\n",
       "    </tr>\n",
       "  </tbody>\n",
       "</table>\n",
       "<p>269 rows × 5 columns</p>\n",
       "</div>"
      ],
      "text/plain": [
       "    Date_reported  NC_cn_24h  NC_au_24h  NC_it_24h  NC_us_24h\n",
       "0      2020-01-03          0          0          0          0\n",
       "1      2020-01-04          1          0          0          0\n",
       "2      2020-01-05          0          0          0          0\n",
       "3      2020-01-06          3          0          0          0\n",
       "4      2020-01-07          0          0          0          0\n",
       "..            ...        ...        ...        ...        ...\n",
       "264    2020-09-23         18         30       1391      39145\n",
       "265    2020-09-24         10         31       1640      49176\n",
       "266    2020-09-25         15         10       1786      40043\n",
       "267    2020-09-26         18         17       1912      41254\n",
       "268    2020-09-27         15         16       1869      50070\n",
       "\n",
       "[269 rows x 5 columns]"
      ]
     },
     "execution_count": 12,
     "metadata": {},
     "output_type": "execute_result"
    }
   ],
   "source": [
    "all_data_df"
   ]
  },
  {
   "cell_type": "code",
   "execution_count": 13,
   "metadata": {},
   "outputs": [],
   "source": [
    "all_data_df.to_csv(r'D:\\Download\\COVID19\\data\\WHO-COVID-19-global-data.csv', index = False, header=True)"
   ]
  },
  {
   "cell_type": "markdown",
   "metadata": {},
   "source": [
    "Before the process, we need to make sure the data has frequency attributes."
   ]
  },
  {
   "cell_type": "markdown",
   "metadata": {},
   "source": [
    "## 1.2 frequence check"
   ]
  },
  {
   "cell_type": "code",
   "execution_count": 14,
   "metadata": {},
   "outputs": [],
   "source": [
    "import tensorflow as tf\n",
    "import matplotlib as mpl\n",
    "import matplotlib.pyplot as plt"
   ]
  },
  {
   "cell_type": "markdown",
   "metadata": {},
   "source": [
    "~~~~~~~~~~~~\n",
    "Next we want to extract date time\n",
    "\n",
    "~~~~~~~~~~~~"
   ]
  },
  {
   "cell_type": "code",
   "execution_count": 15,
   "metadata": {},
   "outputs": [],
   "source": [
    "df_time = all_data_df.copy()\n",
    "date_time = pd.to_datetime(df_time.pop('Date_reported'), format='%Y-%m-%d %H:%M:%S')"
   ]
  },
  {
   "cell_type": "code",
   "execution_count": 16,
   "metadata": {},
   "outputs": [
    {
     "data": {
      "text/plain": [
       "0     2020-01-03\n",
       "1     2020-01-04\n",
       "2     2020-01-05\n",
       "3     2020-01-06\n",
       "4     2020-01-07\n",
       "         ...    \n",
       "264   2020-09-23\n",
       "265   2020-09-24\n",
       "266   2020-09-25\n",
       "267   2020-09-26\n",
       "268   2020-09-27\n",
       "Name: Date_reported, Length: 269, dtype: datetime64[ns]"
      ]
     },
     "execution_count": 16,
     "metadata": {},
     "output_type": "execute_result"
    }
   ],
   "source": [
    "date_time"
   ]
  },
  {
   "cell_type": "code",
   "execution_count": 17,
   "metadata": {},
   "outputs": [
    {
     "data": {
      "text/html": [
       "<div>\n",
       "<style scoped>\n",
       "    .dataframe tbody tr th:only-of-type {\n",
       "        vertical-align: middle;\n",
       "    }\n",
       "\n",
       "    .dataframe tbody tr th {\n",
       "        vertical-align: top;\n",
       "    }\n",
       "\n",
       "    .dataframe thead th {\n",
       "        text-align: right;\n",
       "    }\n",
       "</style>\n",
       "<table border=\"1\" class=\"dataframe\">\n",
       "  <thead>\n",
       "    <tr style=\"text-align: right;\">\n",
       "      <th></th>\n",
       "      <th>NC_cn_24h</th>\n",
       "      <th>NC_au_24h</th>\n",
       "      <th>NC_it_24h</th>\n",
       "      <th>NC_us_24h</th>\n",
       "    </tr>\n",
       "  </thead>\n",
       "  <tbody>\n",
       "    <tr>\n",
       "      <th>0</th>\n",
       "      <td>0</td>\n",
       "      <td>0</td>\n",
       "      <td>0</td>\n",
       "      <td>0</td>\n",
       "    </tr>\n",
       "    <tr>\n",
       "      <th>1</th>\n",
       "      <td>1</td>\n",
       "      <td>0</td>\n",
       "      <td>0</td>\n",
       "      <td>0</td>\n",
       "    </tr>\n",
       "    <tr>\n",
       "      <th>2</th>\n",
       "      <td>0</td>\n",
       "      <td>0</td>\n",
       "      <td>0</td>\n",
       "      <td>0</td>\n",
       "    </tr>\n",
       "    <tr>\n",
       "      <th>3</th>\n",
       "      <td>3</td>\n",
       "      <td>0</td>\n",
       "      <td>0</td>\n",
       "      <td>0</td>\n",
       "    </tr>\n",
       "    <tr>\n",
       "      <th>4</th>\n",
       "      <td>0</td>\n",
       "      <td>0</td>\n",
       "      <td>0</td>\n",
       "      <td>0</td>\n",
       "    </tr>\n",
       "  </tbody>\n",
       "</table>\n",
       "</div>"
      ],
      "text/plain": [
       "   NC_cn_24h  NC_au_24h  NC_it_24h  NC_us_24h\n",
       "0          0          0          0          0\n",
       "1          1          0          0          0\n",
       "2          0          0          0          0\n",
       "3          3          0          0          0\n",
       "4          0          0          0          0"
      ]
     },
     "execution_count": 17,
     "metadata": {},
     "output_type": "execute_result"
    }
   ],
   "source": [
    "df_time.head()"
   ]
  },
  {
   "cell_type": "code",
   "execution_count": 18,
   "metadata": {},
   "outputs": [
    {
     "data": {
      "image/png": "[encoded data removed]",
      "text/plain": [
       "<Figure size 432x288 with 1 Axes>"
      ]
     },
     "metadata": {
      "needs_background": "light"
     },
     "output_type": "display_data"
    }
   ],
   "source": [
    "plot_cols = ['NC_it_24h']\n",
    "plot_features = df_time[plot_cols]\n",
    "plot_features.index = date_time\n",
    "_ = plot_features.plot(subplots=True)"
   ]
  },
  {
   "cell_type": "code",
   "execution_count": 19,
   "metadata": {},
   "outputs": [
    {
     "data": {
      "image/png": "[encoded data removed]",
      "text/plain": [
       "<Figure size 432x288 with 1 Axes>"
      ]
     },
     "metadata": {
      "needs_background": "light"
     },
     "output_type": "display_data"
    }
   ],
   "source": [
    "plot_features = df_time[plot_cols][:365]\n",
    "plot_features.index = date_time[:365]\n",
    "_ = plot_features.plot(subplots=True)"
   ]
  },
  {
   "cell_type": "code",
   "execution_count": 20,
   "metadata": {},
   "outputs": [
    {
     "data": {
      "image/png": "[encoded data removed]",
      "text/plain": [
       "<Figure size 432x288 with 4 Axes>"
      ]
     },
     "metadata": {
      "needs_background": "light"
     },
     "output_type": "display_data"
    }
   ],
   "source": [
    "plot_cols = ['NC_cn_24h','NC_au_24h','NC_it_24h','NC_us_24h']\n",
    "plot_features = df_time[plot_cols]\n",
    "plot_features.index = date_time\n",
    "_ = plot_features.plot(subplots=True)"
   ]
  },
  {
   "cell_type": "code",
   "execution_count": 21,
   "metadata": {},
   "outputs": [
    {
     "data": {
      "image/png": "[encoded data removed]",
      "text/plain": [
       "<Figure size 432x288 with 4 Axes>"
      ]
     },
     "metadata": {
      "needs_background": "light"
     },
     "output_type": "display_data"
    }
   ],
   "source": [
    "plot_features = df_time[plot_cols][:365]\n",
    "plot_features.index = date_time[:365]\n",
    "_ = plot_features.plot(subplots=True)"
   ]
  },
  {
   "cell_type": "code",
   "execution_count": 22,
   "metadata": {},
   "outputs": [
    {
     "data": {
      "image/png": "[encoded data removed]",
      "text/plain": [
       "<Figure size 288x288 with 2 Axes>"
      ]
     },
     "metadata": {
      "needs_background": "light"
     },
     "output_type": "display_data"
    }
   ],
   "source": [
    "def show_heatmap(data):\n",
    "    plt.matshow(data.corr())\n",
    "    plt.xticks(range(data.shape[1]), data.columns, fontsize=14, rotation=90)\n",
    "    plt.gca().xaxis.tick_bottom()\n",
    "    plt.yticks(range(data.shape[1]), data.columns, fontsize=14)\n",
    "\n",
    "    cb = plt.colorbar()\n",
    "    cb.ax.tick_params(labelsize=14)\n",
    "    plt.title(\"Feature Correlation Heatmap\", fontsize=14)\n",
    "    plt.show()\n",
    "\n",
    "\n",
    "show_heatmap(df_time[plot_cols])"
   ]
  },
  {
   "cell_type": "markdown",
   "metadata": {},
   "source": [
    "# 2. Problem formulation and modelling\n",
    "\n",
    "## Forecasting the trend of death and infection cases of COVID-19"
   ]
  },
  {
   "cell_type": "markdown",
   "metadata": {},
   "source": [
    "### Data preparation"
   ]
  },
  {
   "cell_type": "markdown",
   "metadata": {},
   "source": [
    "# USA"
   ]
  },
  {
   "cell_type": "code",
   "execution_count": 23,
   "metadata": {},
   "outputs": [
    {
     "data": {
      "text/html": [
       "<div>\n",
       "<style scoped>\n",
       "    .dataframe tbody tr th:only-of-type {\n",
       "        vertical-align: middle;\n",
       "    }\n",
       "\n",
       "    .dataframe tbody tr th {\n",
       "        vertical-align: top;\n",
       "    }\n",
       "\n",
       "    .dataframe thead th {\n",
       "        text-align: right;\n",
       "    }\n",
       "</style>\n",
       "<table border=\"1\" class=\"dataframe\">\n",
       "  <thead>\n",
       "    <tr style=\"text-align: right;\">\n",
       "      <th></th>\n",
       "      <th>NC_us_24h</th>\n",
       "    </tr>\n",
       "    <tr>\n",
       "      <th>Date_reported</th>\n",
       "      <th></th>\n",
       "    </tr>\n",
       "  </thead>\n",
       "  <tbody>\n",
       "    <tr>\n",
       "      <th>2020-01-03</th>\n",
       "      <td>0</td>\n",
       "    </tr>\n",
       "    <tr>\n",
       "      <th>2020-01-04</th>\n",
       "      <td>0</td>\n",
       "    </tr>\n",
       "    <tr>\n",
       "      <th>2020-01-05</th>\n",
       "      <td>0</td>\n",
       "    </tr>\n",
       "    <tr>\n",
       "      <th>2020-01-06</th>\n",
       "      <td>0</td>\n",
       "    </tr>\n",
       "    <tr>\n",
       "      <th>2020-01-07</th>\n",
       "      <td>0</td>\n",
       "    </tr>\n",
       "  </tbody>\n",
       "</table>\n",
       "</div>"
      ],
      "text/plain": [
       "               NC_us_24h\n",
       "Date_reported           \n",
       "2020-01-03             0\n",
       "2020-01-04             0\n",
       "2020-01-05             0\n",
       "2020-01-06             0\n",
       "2020-01-07             0"
      ]
     },
     "execution_count": 23,
     "metadata": {},
     "output_type": "execute_result"
    }
   ],
   "source": [
    "selected_features = ['NC_us_24h']\n",
    "date_time_key = \"Date_reported\"\n",
    "features = all_data_df[selected_features]\n",
    "features.index = all_data_df[\"Date_reported\"]\n",
    "features.head()"
   ]
  },
  {
   "cell_type": "markdown",
   "metadata": {},
   "source": [
    "### Normalization and data set split\n",
    "\n",
    "We will have 70% days as training,20% days as validation.\n",
    "\n",
    "Note the data is **not** being randomly shuffled before splitting. This is for two reasons.\n",
    "\n",
    "1. It ensures that chopping the data into windows of consecutive samples is still possible.\n",
    "2. It ensures that the validation/test results are more realistic, being evaluated on data collected after the model was trained.\n",
    "\n"
   ]
  },
  {
   "cell_type": "code",
   "execution_count": 24,
   "metadata": {},
   "outputs": [],
   "source": [
    "train_fraction = 0.7\n",
    "test_fraction = 0.9"
   ]
  },
  {
   "cell_type": "markdown",
   "metadata": {},
   "source": [
    "It is important to scale features before training a neural network. Normalization is a common way of doing this scaling. Subtract the mean and divide by the standard deviation of each feature.\n",
    "\n",
    "The mean and standard deviation should only be computed using the training data so that the models have no access to the values in the validation and test sets."
   ]
  },
  {
   "cell_type": "code",
   "execution_count": 25,
   "metadata": {},
   "outputs": [],
   "source": [
    "def normalize(data, train_split):\n",
    "    n = len(data)\n",
    "    data_mean = data[:int(n*train_split)].mean(axis=0)\n",
    "    data_std = data[:int(n*train_split)].std(axis=0)\n",
    "    print(data_mean)\n",
    "    print(data_std)\n",
    "    return (data - data_mean) / data_std\n"
   ]
  },
  {
   "cell_type": "code",
   "execution_count": 26,
   "metadata": {},
   "outputs": [
    {
     "name": "stdout",
     "output_type": "stream",
     "text": [
      "[15550.17021277]\n",
      "[15086.76888065]\n"
     ]
    },
    {
     "data": {
      "text/html": [
       "<div>\n",
       "<style scoped>\n",
       "    .dataframe tbody tr th:only-of-type {\n",
       "        vertical-align: middle;\n",
       "    }\n",
       "\n",
       "    .dataframe tbody tr th {\n",
       "        vertical-align: top;\n",
       "    }\n",
       "\n",
       "    .dataframe thead th {\n",
       "        text-align: right;\n",
       "    }\n",
       "</style>\n",
       "<table border=\"1\" class=\"dataframe\">\n",
       "  <thead>\n",
       "    <tr style=\"text-align: right;\">\n",
       "      <th></th>\n",
       "      <th>0</th>\n",
       "    </tr>\n",
       "  </thead>\n",
       "  <tbody>\n",
       "    <tr>\n",
       "      <th>0</th>\n",
       "      <td>-1.030716</td>\n",
       "    </tr>\n",
       "    <tr>\n",
       "      <th>1</th>\n",
       "      <td>-1.030716</td>\n",
       "    </tr>\n",
       "    <tr>\n",
       "      <th>2</th>\n",
       "      <td>-1.030716</td>\n",
       "    </tr>\n",
       "    <tr>\n",
       "      <th>3</th>\n",
       "      <td>-1.030716</td>\n",
       "    </tr>\n",
       "    <tr>\n",
       "      <th>4</th>\n",
       "      <td>-1.030716</td>\n",
       "    </tr>\n",
       "  </tbody>\n",
       "</table>\n",
       "</div>"
      ],
      "text/plain": [
       "          0\n",
       "0 -1.030716\n",
       "1 -1.030716\n",
       "2 -1.030716\n",
       "3 -1.030716\n",
       "4 -1.030716"
      ]
     },
     "execution_count": 26,
     "metadata": {},
     "output_type": "execute_result"
    }
   ],
   "source": [
    "features = normalize(features.values, train_fraction)\n",
    "features = pd.DataFrame(features)\n",
    "features.head()"
   ]
  },
  {
   "cell_type": "code",
   "execution_count": 27,
   "metadata": {},
   "outputs": [
    {
     "name": "stdout",
     "output_type": "stream",
     "text": [
      "val case until: 188 test case until:  242\n"
     ]
    }
   ],
   "source": [
    "n = len(features)\n",
    "train_data = features.loc[0 : int(n*train_fraction) - 1]\n",
    "val_data = features.loc[int(n*train_fraction):int(n*test_fraction)-1]\n",
    "test_data = features.loc[int(n*test_fraction):]\n",
    "print(\"val case until:\", int(n*train_fraction), \"test case until: \",int(n*test_fraction) )"
   ]
  },
  {
   "cell_type": "markdown",
   "metadata": {},
   "source": [
    "# test_data, LearningRate 0.05, Epochs 1000"
   ]
  },
  {
   "cell_type": "code",
   "execution_count": 28,
   "metadata": {},
   "outputs": [],
   "source": [
    "step = 1\n",
    "past = 25\n",
    "future = 5\n",
    "learning_rate = 0.05\n",
    "batch_size = 30\n",
    "epochs = 1000"
   ]
  },
  {
   "cell_type": "code",
   "execution_count": 29,
   "metadata": {},
   "outputs": [
    {
     "name": "stdout",
     "output_type": "stream",
     "text": [
      "start: 30  end: 218\n"
     ]
    }
   ],
   "source": [
    "start = past + future \n",
    "end = start + int(n*train_fraction)  \n",
    "print (\"start:\",start, \" end:\", end)"
   ]
  },
  {
   "cell_type": "code",
   "execution_count": 30,
   "metadata": {},
   "outputs": [],
   "source": [
    "x_train = train_data[[i for i in range(1)]].values\n",
    "y_train = features.iloc[start:end][[0]]\n",
    "sequence_length = int(past / step)\n"
   ]
  },
  {
   "cell_type": "code",
   "execution_count": 31,
   "metadata": {},
   "outputs": [
    {
     "name": "stdout",
     "output_type": "stream",
     "text": [
      "25\n"
     ]
    }
   ],
   "source": [
    "sequence_length = int(past / step)\n",
    "print(sequence_length)"
   ]
  },
  {
   "cell_type": "code",
   "execution_count": 32,
   "metadata": {},
   "outputs": [],
   "source": [
    "dataset_train = keras.preprocessing.timeseries_dataset_from_array(\n",
    "    x_train,\n",
    "    y_train,\n",
    "    sequence_length=sequence_length,\n",
    "    sampling_rate=step,\n",
    "    batch_size=batch_size,\n",
    ")\n"
   ]
  },
  {
   "cell_type": "code",
   "execution_count": 33,
   "metadata": {},
   "outputs": [
    {
     "name": "stdout",
     "output_type": "stream",
     "text": [
      "start: 188  end: 242\n"
     ]
    }
   ],
   "source": [
    "val_start = int(n*train_fraction)\n",
    "val_end = int(n*test_fraction)\n",
    "\n",
    "val_label_start = past + future + val_start\n",
    "val_label_end = past + future + val_end\n",
    "print (\"start:\",val_start, \" end:\", val_end)"
   ]
  },
  {
   "cell_type": "code",
   "execution_count": 34,
   "metadata": {
    "scrolled": true
   },
   "outputs": [
    {
     "data": {
      "text/plain": [
       "array([[2.30087901],\n",
       "       [3.25317039],\n",
       "       [2.87833864],\n",
       "       [3.36260403],\n",
       "       [3.10330397],\n",
       "       [2.95376897],\n",
       "       [2.86143641],\n",
       "       [2.99340635],\n",
       "       [3.42119842],\n",
       "       [3.70747575],\n",
       "       [3.89770866],\n",
       "       [3.4078092 ],\n",
       "       [3.13107665],\n",
       "       [2.7657234 ],\n",
       "       [3.14042259],\n",
       "       [3.58531573],\n",
       "       [3.7227209 ],\n",
       "       [3.88982096],\n",
       "       [3.20929088],\n",
       "       [3.04557127],\n",
       "       [2.55003772],\n",
       "       [2.92168788],\n",
       "       [3.30460619],\n",
       "       [3.46481279],\n",
       "       [3.44333702],\n",
       "       [2.83943037],\n",
       "       [2.09672661],\n",
       "       [2.22717204],\n",
       "       [2.25885543],\n",
       "       [2.5070199 ],\n",
       "       [2.63594081],\n",
       "       [3.01441814],\n",
       "       [2.54148719],\n",
       "       [2.14849383],\n",
       "       [1.61358804],\n",
       "       [2.60100954],\n",
       "       [2.67498164],\n",
       "       [2.46897332],\n",
       "       [2.63865842],\n",
       "       [2.57343571],\n",
       "       [1.69173598],\n",
       "       [1.56261622],\n",
       "       [1.48194951],\n",
       "       [2.03548089],\n",
       "       [1.88256545],\n",
       "       [2.0156622 ],\n",
       "       [1.94845099],\n",
       "       [1.47247101],\n",
       "       [1.14887621],\n",
       "       [1.42375282],\n",
       "       [1.98411138]])"
      ]
     },
     "execution_count": 34,
     "metadata": {},
     "output_type": "execute_result"
    }
   ],
   "source": [
    "\n",
    "temp = val_data[:51]\n",
    "x_val = temp[[i for i in range(1)]].values\n",
    "y_val = features.iloc[val_label_start:val_label_end][[0]]\n",
    "\n",
    "x_val"
   ]
  },
  {
   "cell_type": "code",
   "execution_count": 35,
   "metadata": {
    "scrolled": true
   },
   "outputs": [
    {
     "data": {
      "text/html": [
       "<div>\n",
       "<style scoped>\n",
       "    .dataframe tbody tr th:only-of-type {\n",
       "        vertical-align: middle;\n",
       "    }\n",
       "\n",
       "    .dataframe tbody tr th {\n",
       "        vertical-align: top;\n",
       "    }\n",
       "\n",
       "    .dataframe thead th {\n",
       "        text-align: right;\n",
       "    }\n",
       "</style>\n",
       "<table border=\"1\" class=\"dataframe\">\n",
       "  <thead>\n",
       "    <tr style=\"text-align: right;\">\n",
       "      <th></th>\n",
       "      <th>0</th>\n",
       "    </tr>\n",
       "  </thead>\n",
       "  <tbody>\n",
       "    <tr>\n",
       "      <th>218</th>\n",
       "      <td>2.635941</td>\n",
       "    </tr>\n",
       "    <tr>\n",
       "      <th>219</th>\n",
       "      <td>3.014418</td>\n",
       "    </tr>\n",
       "    <tr>\n",
       "      <th>220</th>\n",
       "      <td>2.541487</td>\n",
       "    </tr>\n",
       "    <tr>\n",
       "      <th>221</th>\n",
       "      <td>2.148494</td>\n",
       "    </tr>\n",
       "    <tr>\n",
       "      <th>222</th>\n",
       "      <td>1.613588</td>\n",
       "    </tr>\n",
       "    <tr>\n",
       "      <th>223</th>\n",
       "      <td>2.601010</td>\n",
       "    </tr>\n",
       "    <tr>\n",
       "      <th>224</th>\n",
       "      <td>2.674982</td>\n",
       "    </tr>\n",
       "    <tr>\n",
       "      <th>225</th>\n",
       "      <td>2.468973</td>\n",
       "    </tr>\n",
       "    <tr>\n",
       "      <th>226</th>\n",
       "      <td>2.638658</td>\n",
       "    </tr>\n",
       "    <tr>\n",
       "      <th>227</th>\n",
       "      <td>2.573436</td>\n",
       "    </tr>\n",
       "    <tr>\n",
       "      <th>228</th>\n",
       "      <td>1.691736</td>\n",
       "    </tr>\n",
       "    <tr>\n",
       "      <th>229</th>\n",
       "      <td>1.562616</td>\n",
       "    </tr>\n",
       "    <tr>\n",
       "      <th>230</th>\n",
       "      <td>1.481950</td>\n",
       "    </tr>\n",
       "    <tr>\n",
       "      <th>231</th>\n",
       "      <td>2.035481</td>\n",
       "    </tr>\n",
       "    <tr>\n",
       "      <th>232</th>\n",
       "      <td>1.882565</td>\n",
       "    </tr>\n",
       "    <tr>\n",
       "      <th>233</th>\n",
       "      <td>2.015662</td>\n",
       "    </tr>\n",
       "    <tr>\n",
       "      <th>234</th>\n",
       "      <td>1.948451</td>\n",
       "    </tr>\n",
       "    <tr>\n",
       "      <th>235</th>\n",
       "      <td>1.472471</td>\n",
       "    </tr>\n",
       "    <tr>\n",
       "      <th>236</th>\n",
       "      <td>1.148876</td>\n",
       "    </tr>\n",
       "    <tr>\n",
       "      <th>237</th>\n",
       "      <td>1.423753</td>\n",
       "    </tr>\n",
       "    <tr>\n",
       "      <th>238</th>\n",
       "      <td>1.984111</td>\n",
       "    </tr>\n",
       "    <tr>\n",
       "      <th>239</th>\n",
       "      <td>2.031172</td>\n",
       "    </tr>\n",
       "    <tr>\n",
       "      <th>240</th>\n",
       "      <td>1.885880</td>\n",
       "    </tr>\n",
       "    <tr>\n",
       "      <th>241</th>\n",
       "      <td>1.884620</td>\n",
       "    </tr>\n",
       "    <tr>\n",
       "      <th>242</th>\n",
       "      <td>1.426272</td>\n",
       "    </tr>\n",
       "    <tr>\n",
       "      <th>243</th>\n",
       "      <td>1.077622</td>\n",
       "    </tr>\n",
       "    <tr>\n",
       "      <th>244</th>\n",
       "      <td>1.797060</td>\n",
       "    </tr>\n",
       "    <tr>\n",
       "      <th>245</th>\n",
       "      <td>1.580977</td>\n",
       "    </tr>\n",
       "    <tr>\n",
       "      <th>246</th>\n",
       "      <td>1.923065</td>\n",
       "    </tr>\n",
       "    <tr>\n",
       "      <th>247</th>\n",
       "      <td>2.225846</td>\n",
       "    </tr>\n",
       "    <tr>\n",
       "      <th>248</th>\n",
       "      <td>1.975229</td>\n",
       "    </tr>\n",
       "    <tr>\n",
       "      <th>249</th>\n",
       "      <td>1.188845</td>\n",
       "    </tr>\n",
       "    <tr>\n",
       "      <th>250</th>\n",
       "      <td>0.693643</td>\n",
       "    </tr>\n",
       "    <tr>\n",
       "      <th>251</th>\n",
       "      <td>0.507321</td>\n",
       "    </tr>\n",
       "    <tr>\n",
       "      <th>252</th>\n",
       "      <td>1.089553</td>\n",
       "    </tr>\n",
       "    <tr>\n",
       "      <th>253</th>\n",
       "      <td>1.430249</td>\n",
       "    </tr>\n",
       "    <tr>\n",
       "      <th>254</th>\n",
       "      <td>1.986696</td>\n",
       "    </tr>\n",
       "    <tr>\n",
       "      <th>255</th>\n",
       "      <td>1.628966</td>\n",
       "    </tr>\n",
       "    <tr>\n",
       "      <th>256</th>\n",
       "      <td>1.300930</td>\n",
       "    </tr>\n",
       "    <tr>\n",
       "      <th>257</th>\n",
       "      <td>1.230272</td>\n",
       "    </tr>\n",
       "    <tr>\n",
       "      <th>258</th>\n",
       "      <td>1.228085</td>\n",
       "    </tr>\n",
       "    <tr>\n",
       "      <th>259</th>\n",
       "      <td>1.673309</td>\n",
       "    </tr>\n",
       "    <tr>\n",
       "      <th>260</th>\n",
       "      <td>1.794144</td>\n",
       "    </tr>\n",
       "    <tr>\n",
       "      <th>261</th>\n",
       "      <td>2.168511</td>\n",
       "    </tr>\n",
       "    <tr>\n",
       "      <th>262</th>\n",
       "      <td>1.732964</td>\n",
       "    </tr>\n",
       "    <tr>\n",
       "      <th>263</th>\n",
       "      <td>1.406254</td>\n",
       "    </tr>\n",
       "    <tr>\n",
       "      <th>264</th>\n",
       "      <td>1.563942</td>\n",
       "    </tr>\n",
       "    <tr>\n",
       "      <th>265</th>\n",
       "      <td>2.228829</td>\n",
       "    </tr>\n",
       "    <tr>\n",
       "      <th>266</th>\n",
       "      <td>1.623464</td>\n",
       "    </tr>\n",
       "    <tr>\n",
       "      <th>267</th>\n",
       "      <td>1.703733</td>\n",
       "    </tr>\n",
       "    <tr>\n",
       "      <th>268</th>\n",
       "      <td>2.288086</td>\n",
       "    </tr>\n",
       "  </tbody>\n",
       "</table>\n",
       "</div>"
      ],
      "text/plain": [
       "            0\n",
       "218  2.635941\n",
       "219  3.014418\n",
       "220  2.541487\n",
       "221  2.148494\n",
       "222  1.613588\n",
       "223  2.601010\n",
       "224  2.674982\n",
       "225  2.468973\n",
       "226  2.638658\n",
       "227  2.573436\n",
       "228  1.691736\n",
       "229  1.562616\n",
       "230  1.481950\n",
       "231  2.035481\n",
       "232  1.882565\n",
       "233  2.015662\n",
       "234  1.948451\n",
       "235  1.472471\n",
       "236  1.148876\n",
       "237  1.423753\n",
       "238  1.984111\n",
       "239  2.031172\n",
       "240  1.885880\n",
       "241  1.884620\n",
       "242  1.426272\n",
       "243  1.077622\n",
       "244  1.797060\n",
       "245  1.580977\n",
       "246  1.923065\n",
       "247  2.225846\n",
       "248  1.975229\n",
       "249  1.188845\n",
       "250  0.693643\n",
       "251  0.507321\n",
       "252  1.089553\n",
       "253  1.430249\n",
       "254  1.986696\n",
       "255  1.628966\n",
       "256  1.300930\n",
       "257  1.230272\n",
       "258  1.228085\n",
       "259  1.673309\n",
       "260  1.794144\n",
       "261  2.168511\n",
       "262  1.732964\n",
       "263  1.406254\n",
       "264  1.563942\n",
       "265  2.228829\n",
       "266  1.623464\n",
       "267  1.703733\n",
       "268  2.288086"
      ]
     },
     "execution_count": 35,
     "metadata": {},
     "output_type": "execute_result"
    }
   ],
   "source": [
    "y_val"
   ]
  },
  {
   "cell_type": "code",
   "execution_count": 36,
   "metadata": {},
   "outputs": [],
   "source": [
    "dataset_val = keras.preprocessing.timeseries_dataset_from_array(\n",
    "    x_val,\n",
    "    y_val,\n",
    "    sequence_length=sequence_length,\n",
    "    sampling_rate=step,\n",
    "    batch_size=batch_size,\n",
    ")"
   ]
  },
  {
   "cell_type": "code",
   "execution_count": 37,
   "metadata": {},
   "outputs": [
    {
     "name": "stdout",
     "output_type": "stream",
     "text": [
      "Input shape: (30, 25, 1)\n",
      "Target shape: (30, 1)\n"
     ]
    }
   ],
   "source": [
    "for batch in dataset_train.take(1):\n",
    "    inputs, targets = batch\n",
    "\n",
    "print(\"Input shape:\", inputs.numpy().shape)\n",
    "print(\"Target shape:\", targets.numpy().shape)"
   ]
  },
  {
   "cell_type": "markdown",
   "metadata": {},
   "source": [
    "### model and training\n",
    "\n",
    "In this section we will setup our model using LSTM unit."
   ]
  },
  {
   "cell_type": "code",
   "execution_count": 38,
   "metadata": {},
   "outputs": [
    {
     "name": "stdout",
     "output_type": "stream",
     "text": [
      "Model: \"functional_1\"\n",
      "_________________________________________________________________\n",
      "Layer (type)                 Output Shape              Param #   \n",
      "=================================================================\n",
      "input_1 (InputLayer)         [(None, 25, 1)]           0         \n",
      "_________________________________________________________________\n",
      "lstm (LSTM)                  (None, 32)                4352      \n",
      "_________________________________________________________________\n",
      "dense (Dense)                (None, 1)                 33        \n",
      "=================================================================\n",
      "Total params: 4,385\n",
      "Trainable params: 4,385\n",
      "Non-trainable params: 0\n",
      "_________________________________________________________________\n"
     ]
    }
   ],
   "source": [
    "inputs = keras.layers.Input(shape=(inputs.shape[1], inputs.shape[2]))\n",
    "lstm_out = keras.layers.LSTM(32)(inputs)\n",
    "outputs = keras.layers.Dense(1)(lstm_out)\n",
    "\n",
    "model = keras.Model(inputs=inputs, outputs=outputs)\n",
    "model.compile(optimizer=keras.optimizers.Adam(learning_rate=learning_rate), loss=\"mse\")\n",
    "model.summary()"
   ]
  },
  {
   "cell_type": "code",
   "execution_count": 39,
   "metadata": {
    "scrolled": true
   },
   "outputs": [
    {
     "name": "stdout",
     "output_type": "stream",
     "text": [
      "Epoch 1/1000\n",
      "6/6 [==============================] - ETA: 0s - loss: 1.7628\n",
      "Epoch 00001: val_loss improved from inf to 0.98065, saving model to model_checkpoint.h5\n",
      "6/6 [==============================] - 0s 69ms/step - loss: 1.7628 - val_loss: 0.9807\n",
      "Epoch 2/1000\n",
      "1/6 [====>.........................] - ETA: 0s - loss: 2.1147\n",
      "Epoch 00002: val_loss did not improve from 0.98065\n",
      "6/6 [==============================] - 0s 16ms/step - loss: 2.8198 - val_loss: 2.1808\n",
      "Epoch 3/1000\n",
      "1/6 [====>.........................] - ETA: 0s - loss: 0.4335\n",
      "Epoch 00003: val_loss did not improve from 0.98065\n",
      "6/6 [==============================] - 0s 15ms/step - loss: 1.2714 - val_loss: 2.7438\n",
      "Epoch 4/1000\n",
      "1/6 [====>.........................] - ETA: 0s - loss: 0.2713\n",
      "Epoch 00004: val_loss improved from 0.98065 to 0.39937, saving model to model_checkpoint.h5\n",
      "6/6 [==============================] - 0s 17ms/step - loss: 0.5357 - val_loss: 0.3994\n",
      "Epoch 5/1000\n",
      "1/6 [====>.........................] - ETA: 0s - loss: 0.1114\n",
      "Epoch 00005: val_loss did not improve from 0.39937\n",
      "6/6 [==============================] - 0s 16ms/step - loss: 0.7530 - val_loss: 0.5886\n",
      "Epoch 6/1000\n",
      "1/6 [====>.........................] - ETA: 0s - loss: 0.0694\n",
      "Epoch 00006: val_loss did not improve from 0.39937\n",
      "6/6 [==============================] - 0s 16ms/step - loss: 0.4045 - val_loss: 1.0783\n",
      "Epoch 7/1000\n",
      "1/6 [====>.........................] - ETA: 0s - loss: 0.0042\n",
      "Epoch 00007: val_loss did not improve from 0.39937\n",
      "6/6 [==============================] - 0s 16ms/step - loss: 0.3378 - val_loss: 0.5656\n",
      "Epoch 8/1000\n",
      "1/6 [====>.........................] - ETA: 0s - loss: 0.6842\n",
      "Epoch 00008: val_loss improved from 0.39937 to 0.33598, saving model to model_checkpoint.h5\n",
      "6/6 [==============================] - 0s 18ms/step - loss: 0.7719 - val_loss: 0.3360\n",
      "Epoch 9/1000\n",
      "1/6 [====>.........................] - ETA: 0s - loss: 1.1495\n",
      "Epoch 00009: val_loss improved from 0.33598 to 0.18049, saving model to model_checkpoint.h5\n",
      "6/6 [==============================] - 0s 18ms/step - loss: 0.5566 - val_loss: 0.1805\n",
      "Epoch 10/1000\n",
      "1/6 [====>.........................] - ETA: 0s - loss: 0.3191\n",
      "Epoch 00010: val_loss improved from 0.18049 to 0.14327, saving model to model_checkpoint.h5\n",
      "6/6 [==============================] - 0s 18ms/step - loss: 0.4017 - val_loss: 0.1433\n",
      "Epoch 11/1000\n",
      "1/6 [====>.........................] - ETA: 0s - loss: 0.0757\n",
      "Epoch 00011: val_loss did not improve from 0.14327\n",
      "6/6 [==============================] - 0s 16ms/step - loss: 0.2307 - val_loss: 0.1540\n",
      "Epoch 12/1000\n",
      "1/6 [====>.........................] - ETA: 0s - loss: 0.0236\n",
      "Epoch 00012: val_loss did not improve from 0.14327\n",
      "6/6 [==============================] - 0s 16ms/step - loss: 0.2656 - val_loss: 0.2124\n",
      "Epoch 13/1000\n",
      "1/6 [====>.........................] - ETA: 0s - loss: 0.0108\n",
      "Epoch 00013: val_loss did not improve from 0.14327\n",
      "6/6 [==============================] - 0s 16ms/step - loss: 0.1650 - val_loss: 0.4373\n",
      "Epoch 14/1000\n",
      "1/6 [====>.........................] - ETA: 0s - loss: 0.1100\n",
      "Epoch 00014: val_loss did not improve from 0.14327\n",
      "6/6 [==============================] - 0s 15ms/step - loss: 0.2211 - val_loss: 0.4297\n",
      "Epoch 15/1000\n",
      "1/6 [====>.........................] - ETA: 0s - loss: 0.0018\n",
      "Epoch 00015: val_loss did not improve from 0.14327\n",
      "6/6 [==============================] - 0s 15ms/step - loss: 0.1597 - val_loss: 0.6539\n"
     ]
    }
   ],
   "source": [
    "path_checkpoint = \"model_checkpoint.h5\"\n",
    "es_callback = keras.callbacks.EarlyStopping(monitor=\"val_loss\", min_delta=0, patience=5)\n",
    "\n",
    "modelckpt_callback = keras.callbacks.ModelCheckpoint(\n",
    "    monitor=\"val_loss\",\n",
    "    filepath=path_checkpoint,\n",
    "    verbose=1,\n",
    "    save_weights_only=True,\n",
    "    save_best_only=True,\n",
    ")\n",
    "\n",
    "history = model.fit(\n",
    "    dataset_train,\n",
    "    epochs=epochs,\n",
    "    validation_data=dataset_val,\n",
    "    callbacks=[es_callback, modelckpt_callback],\n",
    ")"
   ]
  },
  {
   "cell_type": "markdown",
   "metadata": {},
   "source": [
    "### Evaluation"
   ]
  },
  {
   "cell_type": "code",
   "execution_count": 40,
   "metadata": {},
   "outputs": [
    {
     "data": {
      "image/png": "[encoded data removed]",
      "text/plain": [
       "<Figure size 432x288 with 1 Axes>"
      ]
     },
     "metadata": {
      "needs_background": "light"
     },
     "output_type": "display_data"
    }
   ],
   "source": [
    "def visualize_loss(history, title):\n",
    "    loss = history.history[\"loss\"]\n",
    "    val_loss = history.history[\"val_loss\"]\n",
    "    epochs = range(len(loss))\n",
    "    plt.figure()\n",
    "    plt.plot(epochs, loss, \"b\", label=\"Training loss\")\n",
    "    plt.plot(epochs, val_loss, \"r\", label=\"Validation loss\")\n",
    "    plt.title(title)\n",
    "    plt.xlabel(\"Epochs\")\n",
    "    plt.ylabel(\"Loss\")\n",
    "    plt.legend()\n",
    "    plt.show()\n",
    "    \n",
    "visualize_loss(history, \"Training and Validation Loss\")"
   ]
  },
  {
   "cell_type": "code",
   "execution_count": 41,
   "metadata": {},
   "outputs": [
    {
     "data": {
      "image/png": "[encoded data removed]",
      "text/plain": [
       "<Figure size 432x288 with 1 Axes>"
      ]
     },
     "metadata": {
      "needs_background": "light"
     },
     "output_type": "display_data"
    }
   ],
   "source": [
    "def visualize_loss_fixed_axis(history, title):\n",
    "    loss = history.history[\"loss\"]\n",
    "    val_loss = history.history[\"val_loss\"]\n",
    "    epochs = range(len(loss))\n",
    "    plt.figure()\n",
    "    plt.axis([0, 100, 0, 6])\n",
    "    plt.plot(epochs, loss, \"b\", label=\"Training loss\")\n",
    "    plt.plot(epochs, val_loss, \"r\", label=\"Validation loss\")\n",
    "    plt.title(title)\n",
    "    plt.xlabel(\"Epochs\")\n",
    "    plt.ylabel(\"Loss\")\n",
    "    plt.legend()\n",
    "    plt.show() \n",
    "    \n",
    "visualize_loss_fixed_axis(history, \"Training and Validation Loss with fixed axis\")"
   ]
  },
  {
   "cell_type": "markdown",
   "metadata": {},
   "source": [
    "### Prediction"
   ]
  },
  {
   "cell_type": "code",
   "execution_count": 42,
   "metadata": {},
   "outputs": [],
   "source": [
    "#x_test = test_data.iloc[:1424][[i for i in range(7)]]\n",
    "x_test = test_data[[i for i in range(1)]].values\n",
    "dict_0 = {}\n",
    "for i in range(27):\n",
    "    dict_0[i] = 0\n",
    "\n",
    "y_test = pd.DataFrame({'8':dict_0})"
   ]
  },
  {
   "cell_type": "code",
   "execution_count": 43,
   "metadata": {},
   "outputs": [],
   "source": [
    "dataset_test = keras.preprocessing.timeseries_dataset_from_array(\n",
    "    x_test,\n",
    "    y_test,\n",
    "    sequence_length=1,\n",
    "    sampling_rate=step,\n",
    "    batch_size=27,\n",
    ")\n",
    "y_hat = model.predict(dataset_test)"
   ]
  },
  {
   "cell_type": "code",
   "execution_count": 44,
   "metadata": {},
   "outputs": [],
   "source": [
    "def re_normalize(data, train_split,y):\n",
    "    n = len(data)\n",
    "    data_mean = data[:int(n*train_split)].mean(axis=0)\n",
    "    data_std = data[:int(n*train_split)].std(axis=0)\n",
    "    print(data_mean[0])\n",
    "    print(data_std[0])\n",
    "    return y * data_std[0] + data_mean[0]\n"
   ]
  },
  {
   "cell_type": "code",
   "execution_count": 45,
   "metadata": {},
   "outputs": [
    {
     "name": "stdout",
     "output_type": "stream",
     "text": [
      "15550.170212765957\n",
      "15086.768880653724\n",
      "27\n",
      "               0\n",
      "0   29124.332031\n",
      "1   26207.720703\n",
      "2   31743.662109\n",
      "3   30274.322266\n",
      "4   32530.056641\n",
      "5   34218.417969\n",
      "6   32840.914062\n",
      "7   27189.386719\n",
      "8   22430.919922\n",
      "9   20397.089844\n",
      "10  26315.410156\n",
      "11  29154.958984\n",
      "12  32908.109375\n",
      "13  30614.154297\n",
      "14  28129.378906\n",
      "15  27542.472656\n",
      "16  27523.996094\n",
      "17  30921.238281\n",
      "18  31724.855469\n",
      "19  33919.855469\n",
      "20  31323.986328\n",
      "21  28969.310547\n",
      "22  30151.794922\n",
      "23  34233.687500\n",
      "24  30575.593750\n",
      "25  31128.115234\n",
      "26  34531.714844\n"
     ]
    }
   ],
   "source": [
    "features = all_data_df[selected_features]\n",
    "y_hat = re_normalize(features.values, train_fraction,y_hat) \n",
    "print(y_hat.size)\n",
    "y_data = pd.DataFrame(y_hat)\n",
    "print(y_data)"
   ]
  },
  {
   "cell_type": "code",
   "execution_count": 46,
   "metadata": {},
   "outputs": [
    {
     "name": "stdout",
     "output_type": "stream",
     "text": [
      "{0: 268, 1: 269, 2: 270, 3: 271, 4: 272, 5: 273, 6: 274, 7: 275, 8: 276, 9: 277, 10: 278, 11: 279, 12: 280, 13: 281, 14: 282, 15: 283, 16: 284, 17: 285, 18: 286, 19: 287, 20: 288, 21: 289, 22: 290, 23: 291, 24: 292, 25: 293, 26: 294}\n",
      "27\n",
      "     NC_us_24h    prediction\n",
      "0          0.0           NaN\n",
      "1          0.0           NaN\n",
      "2          0.0           NaN\n",
      "3          0.0           NaN\n",
      "4          0.0           NaN\n",
      "..         ...           ...\n",
      "290        NaN  30151.794922\n",
      "291        NaN  34233.687500\n",
      "292        NaN  30575.593750\n",
      "293        NaN  31128.115234\n",
      "294        NaN  34531.714844\n",
      "\n",
      "[295 rows x 2 columns]\n",
      "     NC_us_24h\n",
      "0            0\n",
      "1            0\n",
      "2            0\n",
      "3            0\n",
      "4            0\n",
      "..         ...\n",
      "264      39145\n",
      "265      49176\n",
      "266      40043\n",
      "267      41254\n",
      "268      50070\n",
      "\n",
      "[269 rows x 1 columns]\n"
     ]
    }
   ],
   "source": [
    "dict_index = {}\n",
    "for i in range (27):\n",
    "    dict_index[i] = 243+25 + i    \n",
    "print(dict_index)\n",
    "y_data = y_data.rename(index = dict_index, columns = {0:'prediction'}) \n",
    "print(y_data.size)\n",
    "result = pd.concat([features, y_data], axis=1, join='outer')\n",
    "print(result)\n",
    "print(features)"
   ]
  },
  {
   "cell_type": "code",
   "execution_count": 47,
   "metadata": {},
   "outputs": [
    {
     "data": {
      "text/plain": [
       "[<matplotlib.lines.Line2D at 0x1a4711b10c8>]"
      ]
     },
     "execution_count": 47,
     "metadata": {},
     "output_type": "execute_result"
    },
    {
     "data": {
      "image/png": "[encoded data removed]",
      "text/plain": [
       "<Figure size 432x288 with 1 Axes>"
      ]
     },
     "metadata": {
      "needs_background": "light"
     },
     "output_type": "display_data"
    }
   ],
   "source": [
    "plt.plot( result[200:]['prediction'], linewidth=2, markersize=12)\n",
    "plt.plot( result[200:]['NC_us_24h'], linewidth=2, markersize=12,color='grey')"
   ]
  },
  {
   "cell_type": "code",
   "execution_count": null,
   "metadata": {},
   "outputs": [],
   "source": []
  },
  {
   "cell_type": "code",
   "execution_count": null,
   "metadata": {},
   "outputs": [],
   "source": []
  },
  {
   "cell_type": "code",
   "execution_count": null,
   "metadata": {},
   "outputs": [],
   "source": []
  },
  {
   "cell_type": "code",
   "execution_count": null,
   "metadata": {},
   "outputs": [],
   "source": []
  }
 ],
 "metadata": {
  "kernelspec": {
   "display_name": "Python 3",
   "language": "python",
   "name": "python3"
  },
  "language_info": {
   "codemirror_mode": {
    "name": "ipython",
    "version": 3
   },
   "file_extension": ".py",
   "mimetype": "text/x-python",
   "name": "python",
   "nbconvert_exporter": "python",
   "pygments_lexer": "ipython3",
   "version": "3.7.6"
  }
 },
 "nbformat": 4,
 "nbformat_minor": 4
}
